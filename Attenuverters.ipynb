{
 "cells": [
  {
   "cell_type": "markdown",
   "metadata": {},
   "source": [
    "## Basic Attenuverter\n",
    "### Schematic\n",
    "![](resources/attenuverters/attenuverter.svg?sanitize=true)\n",
    "\n",
    "### Gain Equation\n",
    "${Vout = AVin\\left(1+\\dfrac{R2}{R1}\\right) - Vin\\left(\\dfrac{R2}{R1}\\right)}$\n",
    "\n",
    "When R2 = R1: \n",
    "\n",
    "${Vout = 2AVin - Vin}$\n",
    "\n",
    "### Analysis\n",
    "The potentiometer A is a simple voltage divider for Vin.  So the input voltage on the non-inverting input is AVin.  \n",
    "\n",
    "Due to the [virtual ground ](https://youtu.be/pxKLeIjzxAk)concept, this makes the voltage on the inverting input also AVin.  \n",
    "\n",
    "Using Ohm's Law, we can get the current across R1:  \n",
    "\n",
    "${i = \\dfrac{Vin - AVin}{R1}}$\n",
    "\n",
    "And the current across across R2:\n",
    "\n",
    "${i = \\dfrac{Avin - Vout}{R2}}$\n",
    "\n",
    "And because no current goes into the inverting input, we can set them equal to each other and arrive at the first Gain Equation.  Setting R2 = R1 simplifies the Gain Equation into the 2nd one.\n",
    "\n",
    "### Reference\n",
    " - Kassutronics has a [great blog post](https://kassu2000.blogspot.com/2018/04/precision-attenuverter-mixer.html) on this schematic.\n",
    " ___"
   ]
  },
  {
   "cell_type": "markdown",
   "metadata": {},
   "source": [
    "## Attenuator/Attenuverter\n",
    "### Schematic\n",
    "![](resources/attenuverters/uni-bi-attenuator.svg?sanitize=true)\n",
    "\n",
    "### Analysis\n",
    "When the switch is in the unipolar (grounded) position, this circuit acts just like the prior circuit except that is it inverting in 2 stages.  So Vin is divided by the potentiometer and then put through 2 inverting stages with unity gain.\n",
    "\n",
    "When the switch is in the bipolar (feed-forward) position, the reciprocal of the divided voltage is fed forward and added to the first stage's output (which is already inverted).  That sum is then inverted through the second stage.\n",
    "\n",
    "The capacitor on the second stage is just there to smooth the output.\n",
    "\n",
    "### Reference\n",
    " - This circuit was taken from the [Mutable Instruments Shades schematic](https://www.dropbox.com/s/tigjmcgbazgeog0/shades_v30.pdf?dl=0)\n",
    "\n"
   ]
  }
 ],
 "metadata": {
  "kernelspec": {
   "display_name": "Python 3",
   "language": "python",
   "name": "python3"
  },
  "language_info": {
   "codemirror_mode": {
    "name": "ipython",
    "version": 3
   },
   "file_extension": ".py",
   "mimetype": "text/x-python",
   "name": "python",
   "nbconvert_exporter": "python",
   "pygments_lexer": "ipython3",
   "version": "3.7.3"
  }
 },
 "nbformat": 4,
 "nbformat_minor": 2
}
